{
 "cells": [
  {
   "cell_type": "code",
   "execution_count": null,
   "metadata": {},
   "outputs": [],
   "source": []
  },
  {
   "cell_type": "code",
   "execution_count": null,
   "metadata": {},
   "outputs": [],
   "source": []
  },
  {
   "cell_type": "code",
   "execution_count": null,
   "metadata": {},
   "outputs": [],
   "source": []
  },
  {
   "cell_type": "code",
   "execution_count": null,
   "metadata": {},
   "outputs": [],
   "source": [
    "# 데이터로더 잘 구현되었는지 확인\n",
    "dataset_train = Dataset(data_dir=dir_save_train)\n",
    "data = dataset_train.__getitem__(0) # 한 이미지 불러오기\n",
    "input = data['input']\n",
    "label = data['label']\n",
    "\n",
    "# 불러온 이미지 시각화\n",
    "plt.subplot(122)\n",
    "plt.imshow(label.reshape(512,512), cmap='gray')\n",
    "plt.title('label')\n",
    "\n",
    "plt.subplot(121)\n",
    "plt.imshow(input.reshape(512,512), cmap='gray')\n",
    "plt.title('input')\n",
    "\n",
    "plt.show()"
   ]
  }
 ],
 "metadata": {
  "language_info": {
   "name": "python"
  }
 },
 "nbformat": 4,
 "nbformat_minor": 2
}
